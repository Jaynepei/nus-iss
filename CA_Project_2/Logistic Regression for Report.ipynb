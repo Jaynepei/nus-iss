{
 "cells": [
  {
   "cell_type": "markdown",
   "metadata": {},
   "source": [
    "# Logistic Regression for Wine Dataset"
   ]
  },
  {
   "cell_type": "code",
   "execution_count": 1,
   "metadata": {},
   "outputs": [],
   "source": [
    "import pandas as pd\n",
    "import numpy as np\n",
    "import matplotlib.pyplot as plt\n",
    "import seaborn as sns\n",
    "import sklearn\n",
    "import datetime\n",
    "\n",
    "#matplotlib inline"
   ]
  },
  {
   "cell_type": "markdown",
   "metadata": {},
   "source": [
    "## Data Loading and Cleaning"
   ]
  },
  {
   "cell_type": "code",
   "execution_count": 2,
   "metadata": {
    "scrolled": true
   },
   "outputs": [],
   "source": [
    "from sklearn import datasets\n",
    "df = pd.read_csv('winequality-red.csv')\n",
    "\n",
    "def myfunction(x):\n",
    "    if x > 5:\n",
    "        return 1\n",
    "    else:\n",
    "        return 0\n",
    "df['quality'] = df['quality'].apply(myfunction)\n"
   ]
  },
  {
   "cell_type": "markdown",
   "metadata": {},
   "source": [
    "# 1. Logistic Regression with All Features"
   ]
  },
  {
   "cell_type": "code",
   "execution_count": 3,
   "metadata": {},
   "outputs": [
    {
     "data": {
      "text/html": [
       "<div>\n",
       "<style scoped>\n",
       "    .dataframe tbody tr th:only-of-type {\n",
       "        vertical-align: middle;\n",
       "    }\n",
       "\n",
       "    .dataframe tbody tr th {\n",
       "        vertical-align: top;\n",
       "    }\n",
       "\n",
       "    .dataframe thead th {\n",
       "        text-align: right;\n",
       "    }\n",
       "</style>\n",
       "<table border=\"1\" class=\"dataframe\">\n",
       "  <thead>\n",
       "    <tr style=\"text-align: right;\">\n",
       "      <th></th>\n",
       "      <th>fixed acidity</th>\n",
       "      <th>volatile acidity</th>\n",
       "      <th>citric acid</th>\n",
       "      <th>residual sugar</th>\n",
       "      <th>chlorides</th>\n",
       "      <th>free sulfur dioxide</th>\n",
       "      <th>total sulfur dioxide</th>\n",
       "      <th>density</th>\n",
       "      <th>pH</th>\n",
       "      <th>sulphates</th>\n",
       "      <th>alcohol</th>\n",
       "    </tr>\n",
       "  </thead>\n",
       "  <tbody>\n",
       "    <tr>\n",
       "      <th>0</th>\n",
       "      <td>7.4</td>\n",
       "      <td>0.70</td>\n",
       "      <td>0.00</td>\n",
       "      <td>1.9</td>\n",
       "      <td>0.076</td>\n",
       "      <td>11.0</td>\n",
       "      <td>34.0</td>\n",
       "      <td>0.9978</td>\n",
       "      <td>3.51</td>\n",
       "      <td>0.56</td>\n",
       "      <td>9.4</td>\n",
       "    </tr>\n",
       "    <tr>\n",
       "      <th>1</th>\n",
       "      <td>7.8</td>\n",
       "      <td>0.88</td>\n",
       "      <td>0.00</td>\n",
       "      <td>2.6</td>\n",
       "      <td>0.098</td>\n",
       "      <td>25.0</td>\n",
       "      <td>67.0</td>\n",
       "      <td>0.9968</td>\n",
       "      <td>3.20</td>\n",
       "      <td>0.68</td>\n",
       "      <td>9.8</td>\n",
       "    </tr>\n",
       "    <tr>\n",
       "      <th>2</th>\n",
       "      <td>7.8</td>\n",
       "      <td>0.76</td>\n",
       "      <td>0.04</td>\n",
       "      <td>2.3</td>\n",
       "      <td>0.092</td>\n",
       "      <td>15.0</td>\n",
       "      <td>54.0</td>\n",
       "      <td>0.9970</td>\n",
       "      <td>3.26</td>\n",
       "      <td>0.65</td>\n",
       "      <td>9.8</td>\n",
       "    </tr>\n",
       "    <tr>\n",
       "      <th>3</th>\n",
       "      <td>11.2</td>\n",
       "      <td>0.28</td>\n",
       "      <td>0.56</td>\n",
       "      <td>1.9</td>\n",
       "      <td>0.075</td>\n",
       "      <td>17.0</td>\n",
       "      <td>60.0</td>\n",
       "      <td>0.9980</td>\n",
       "      <td>3.16</td>\n",
       "      <td>0.58</td>\n",
       "      <td>9.8</td>\n",
       "    </tr>\n",
       "    <tr>\n",
       "      <th>4</th>\n",
       "      <td>7.4</td>\n",
       "      <td>0.70</td>\n",
       "      <td>0.00</td>\n",
       "      <td>1.9</td>\n",
       "      <td>0.076</td>\n",
       "      <td>11.0</td>\n",
       "      <td>34.0</td>\n",
       "      <td>0.9978</td>\n",
       "      <td>3.51</td>\n",
       "      <td>0.56</td>\n",
       "      <td>9.4</td>\n",
       "    </tr>\n",
       "  </tbody>\n",
       "</table>\n",
       "</div>"
      ],
      "text/plain": [
       "   fixed acidity  volatile acidity  citric acid  residual sugar  chlorides  \\\n",
       "0            7.4              0.70         0.00             1.9      0.076   \n",
       "1            7.8              0.88         0.00             2.6      0.098   \n",
       "2            7.8              0.76         0.04             2.3      0.092   \n",
       "3           11.2              0.28         0.56             1.9      0.075   \n",
       "4            7.4              0.70         0.00             1.9      0.076   \n",
       "\n",
       "   free sulfur dioxide  total sulfur dioxide  density    pH  sulphates  \\\n",
       "0                 11.0                  34.0   0.9978  3.51       0.56   \n",
       "1                 25.0                  67.0   0.9968  3.20       0.68   \n",
       "2                 15.0                  54.0   0.9970  3.26       0.65   \n",
       "3                 17.0                  60.0   0.9980  3.16       0.58   \n",
       "4                 11.0                  34.0   0.9978  3.51       0.56   \n",
       "\n",
       "   alcohol  \n",
       "0      9.4  \n",
       "1      9.8  \n",
       "2      9.8  \n",
       "3      9.8  \n",
       "4      9.4  "
      ]
     },
     "execution_count": 3,
     "metadata": {},
     "output_type": "execute_result"
    }
   ],
   "source": [
    "X = df.iloc[:,:11]\n",
    "y = df.iloc[:,-1]\n",
    "X.head()"
   ]
  },
  {
   "cell_type": "code",
   "execution_count": 4,
   "metadata": {},
   "outputs": [
    {
     "name": "stdout",
     "output_type": "stream",
     "text": [
      "Accuracy score for Logistic Regression (all features):  0.7325\n",
      "Training Duration (1 run):  0:00:00.549242\n"
     ]
    }
   ],
   "source": [
    "from sklearn.model_selection import train_test_split\n",
    "from sklearn.linear_model import LogisticRegression\n",
    "\n",
    "begin_time = datetime.datetime.now()\n",
    "\n",
    "# Splitting the dataset into the Training set and Test set\n",
    "X_train, X_test, y_train, y_test = train_test_split(X, y, random_state = 42,test_size=0.25)\n",
    "\n",
    "# Fit our model to the Training set\n",
    "logReg = LogisticRegression(solver = 'lbfgs', multi_class = 'multinomial', random_state = 42, max_iter = 1000)\n",
    "logReg.fit(X_train, y_train)\n",
    "\n",
    "y_pred = logReg.predict(X_test)\n",
    "\n",
    "from sklearn.metrics import accuracy_score\n",
    "\n",
    "print('Accuracy score for Logistic Regression (all features): ', accuracy_score(y_test, y_pred))\n",
    "\n",
    "print('Training Duration (1 run): ', datetime.datetime.now()-begin_time)"
   ]
  },
  {
   "cell_type": "markdown",
   "metadata": {},
   "source": [
    "## Confusion Matrix for Logistic Regression (All Features)"
   ]
  },
  {
   "cell_type": "code",
   "execution_count": 5,
   "metadata": {},
   "outputs": [
    {
     "data": {
      "image/png": "[encoded data removed]",
      "text/plain": [
       "<Figure size 288x288 with 2 Axes>"
      ]
     },
     "metadata": {
      "needs_background": "light"
     },
     "output_type": "display_data"
    }
   ],
   "source": [
    "from sklearn.metrics import confusion_matrix\n",
    "\n",
    "cm = confusion_matrix(y_test, y_pred)\n",
    "plt.figure(figsize=(4,4))\n",
    "sns.heatmap(cm, annot=True, fmt=\".3f\", linewidths=.5, square = True, cmap = 'Blues_r');\n",
    "plt.ylabel('Actual Quality');\n",
    "plt.xlabel('Predicted Quality');\n",
    "all_sample_title = 'Accuracy Score: {0}'.format(accuracy_score(y_test, y_pred))\n",
    "plt.title(all_sample_title, size = 15);"
   ]
  },
  {
   "cell_type": "markdown",
   "metadata": {},
   "source": [
    "## Compute average Training Duration and accuracy score over 100 runs for Logistic Regression (all features)"
   ]
  },
  {
   "cell_type": "code",
   "execution_count": 6,
   "metadata": {},
   "outputs": [],
   "source": [
    "# Getting average run time\n",
    "\n",
    "def logreg(): \n",
    "    begin_time = datetime.datetime.now()\n",
    "    X_train, X_test, y_train, y_test = train_test_split(X, y,random_state = 42,test_size=0.25)\n",
    "    logReg = LogisticRegression(solver = 'lbfgs', multi_class = 'multinomial', random_state = 42, max_iter = 1000)\n",
    "    logReg.fit(X_train, y_train)\n",
    "    y_pred = logReg.predict(X_test)\n",
    "    #print('Accuracy Score: ', accuracy_score(y_test, y_pred))\n",
    "    return accuracy_score(y_test, y_pred),datetime.datetime.now()-begin_time"
   ]
  },
  {
   "cell_type": "code",
   "execution_count": 7,
   "metadata": {},
   "outputs": [],
   "source": [
    "runs = 100 #to loop through and get average timing to be more accurate\n",
    "totaltime = datetime.timedelta()\n",
    "totalaccuracy =0.00\n",
    "for i in np.arange(0, runs, 1):\n",
    "    i, j = logreg()\n",
    "    totaltime = totaltime + j\n",
    "    totalaccuracy = totalaccuracy + i   "
   ]
  },
  {
   "cell_type": "code",
   "execution_count": 8,
   "metadata": {},
   "outputs": [
    {
     "name": "stdout",
     "output_type": "stream",
     "text": [
      "Average Training Duration for logreg processing:  0:00:00.325765\n",
      "Average Acc for logreg processing:  0.7325000000000013\n"
     ]
    }
   ],
   "source": [
    "print('Average Training Duration for logreg processing: ',totaltime/runs)\n",
    "print('Average Acc for logreg processing: ',totalaccuracy/runs)"
   ]
  },
  {
   "cell_type": "markdown",
   "metadata": {},
   "source": [
    "# 2. Logistic Regression with Four Features (Pearson Correlation)"
   ]
  },
  {
   "cell_type": "code",
   "execution_count": 9,
   "metadata": {},
   "outputs": [
    {
     "data": {
      "text/html": [
       "<div>\n",
       "<style scoped>\n",
       "    .dataframe tbody tr th:only-of-type {\n",
       "        vertical-align: middle;\n",
       "    }\n",
       "\n",
       "    .dataframe tbody tr th {\n",
       "        vertical-align: top;\n",
       "    }\n",
       "\n",
       "    .dataframe thead th {\n",
       "        text-align: right;\n",
       "    }\n",
       "</style>\n",
       "<table border=\"1\" class=\"dataframe\">\n",
       "  <thead>\n",
       "    <tr style=\"text-align: right;\">\n",
       "      <th></th>\n",
       "      <th>volatile acidity</th>\n",
       "      <th>total sulfur dioxide</th>\n",
       "      <th>sulphates</th>\n",
       "      <th>alcohol</th>\n",
       "    </tr>\n",
       "  </thead>\n",
       "  <tbody>\n",
       "    <tr>\n",
       "      <th>0</th>\n",
       "      <td>0.70</td>\n",
       "      <td>34.0</td>\n",
       "      <td>0.56</td>\n",
       "      <td>9.4</td>\n",
       "    </tr>\n",
       "    <tr>\n",
       "      <th>1</th>\n",
       "      <td>0.88</td>\n",
       "      <td>67.0</td>\n",
       "      <td>0.68</td>\n",
       "      <td>9.8</td>\n",
       "    </tr>\n",
       "    <tr>\n",
       "      <th>2</th>\n",
       "      <td>0.76</td>\n",
       "      <td>54.0</td>\n",
       "      <td>0.65</td>\n",
       "      <td>9.8</td>\n",
       "    </tr>\n",
       "    <tr>\n",
       "      <th>3</th>\n",
       "      <td>0.28</td>\n",
       "      <td>60.0</td>\n",
       "      <td>0.58</td>\n",
       "      <td>9.8</td>\n",
       "    </tr>\n",
       "    <tr>\n",
       "      <th>4</th>\n",
       "      <td>0.70</td>\n",
       "      <td>34.0</td>\n",
       "      <td>0.56</td>\n",
       "      <td>9.4</td>\n",
       "    </tr>\n",
       "  </tbody>\n",
       "</table>\n",
       "</div>"
      ],
      "text/plain": [
       "   volatile acidity  total sulfur dioxide  sulphates  alcohol\n",
       "0              0.70                  34.0       0.56      9.4\n",
       "1              0.88                  67.0       0.68      9.8\n",
       "2              0.76                  54.0       0.65      9.8\n",
       "3              0.28                  60.0       0.58      9.8\n",
       "4              0.70                  34.0       0.56      9.4"
      ]
     },
     "execution_count": 9,
     "metadata": {},
     "output_type": "execute_result"
    }
   ],
   "source": [
    "X1 = df.loc[:,['volatile acidity','total sulfur dioxide', 'sulphates', 'alcohol']]\n",
    "y1 = df.iloc[:,-1]\n",
    "X1.head()"
   ]
  },
  {
   "cell_type": "code",
   "execution_count": 10,
   "metadata": {},
   "outputs": [
    {
     "name": "stdout",
     "output_type": "stream",
     "text": [
      "Accuracy Score for Logistic Regression (4 features):  0.715\n",
      "Training Duration (1 run):  0:00:00.058946\n"
     ]
    }
   ],
   "source": [
    "from sklearn.model_selection import train_test_split\n",
    "from sklearn.linear_model import LogisticRegression\n",
    "\n",
    "begin_time = datetime.datetime.now()\n",
    "\n",
    "# Splitting the dataset into the Training set and Test set\n",
    "X1_train, X1_test, y1_train, y1_test = train_test_split(X1, y1, random_state = 42,test_size=0.25)\n",
    "\n",
    "# Fit our model to the Training set\n",
    "logReg = LogisticRegression(solver = 'lbfgs', multi_class = 'multinomial', random_state = 42, max_iter = 1000)\n",
    "logReg.fit(X1_train, y1_train)\n",
    "\n",
    "y1_pred = logReg.predict(X1_test)\n",
    "\n",
    "from sklearn.metrics import accuracy_score\n",
    "\n",
    "print('Accuracy Score for Logistic Regression (4 features): ' ,accuracy_score(y1_test, y1_pred))\n",
    "\n",
    "print('Training Duration (1 run): ', datetime.datetime.now()-begin_time)"
   ]
  },
  {
   "cell_type": "markdown",
   "metadata": {},
   "source": [
    "## Confusion Matrix for Logistic Regression (4 Features)"
   ]
  },
  {
   "cell_type": "code",
   "execution_count": 11,
   "metadata": {},
   "outputs": [
    {
     "data": {
      "image/png": "[encoded data removed]",
      "text/plain": [
       "<Figure size 288x288 with 2 Axes>"
      ]
     },
     "metadata": {
      "needs_background": "light"
     },
     "output_type": "display_data"
    }
   ],
   "source": [
    "from sklearn.metrics import confusion_matrix\n",
    "\n",
    "cm = confusion_matrix(y1_test, y1_pred)\n",
    "plt.figure(figsize=(4,4))\n",
    "sns.heatmap(cm, annot=True, fmt=\".3f\", linewidths=.5, square = True, cmap = 'Blues_r');\n",
    "plt.ylabel('Actual Quality');\n",
    "plt.xlabel('Predicted Quality');\n",
    "all_sample_title = 'Accuracy Score: {0}'.format(accuracy_score(y1_test, y1_pred))\n",
    "plt.title(all_sample_title, size = 15);"
   ]
  },
  {
   "cell_type": "markdown",
   "metadata": {},
   "source": [
    "## Compute average Training Duration and accuracy score over 100 runs for Logistic Regression (4 features)"
   ]
  },
  {
   "cell_type": "code",
   "execution_count": 12,
   "metadata": {},
   "outputs": [
    {
     "name": "stdout",
     "output_type": "stream",
     "text": [
      "Average Accuracy Score for Logistic Regression (4 features):  0.7150000000000019\n",
      "Average Training Duration for Logistic Regression (4 features):  0:00:00.035901\n"
     ]
    }
   ],
   "source": [
    "from sklearn.model_selection import train_test_split\n",
    "from sklearn.linear_model import LogisticRegression\n",
    "\n",
    "X1 = df.loc[:,['volatile acidity','total sulfur dioxide', 'sulphates', 'alcohol']]\n",
    "y1 = df.iloc[:,-1] \n",
    "\n",
    "def logReg4():\n",
    "    begin_time = datetime.datetime.now()\n",
    "    X1_train, X1_test, y1_train, y1_test = train_test_split(X1, y1, random_state = 42,test_size=0.25)\n",
    "\n",
    "    logReg = LogisticRegression(solver = 'lbfgs', multi_class = 'multinomial', random_state = 42, max_iter = 1000)\n",
    "    logReg.fit(X1_train, y1_train)\n",
    "    \n",
    "    y1_pred = logReg.predict(X1_test)\n",
    "    accuracy = accuracy_score(y1_test, y1_pred)\n",
    "    timespent = datetime.datetime.now()-begin_time\n",
    "    return accuracy, timespent\n",
    "\n",
    "runs = 100 \n",
    "totaltime = datetime.timedelta()\n",
    "totalaccuracy =0.00\n",
    "for i in np.arange(0, runs, 1):\n",
    "    i, j = logReg4()\n",
    "    totaltime = totaltime + j\n",
    "    totalaccuracy = totalaccuracy + i   \n",
    "\n",
    "print('Average Accuracy Score for Logistic Regression (4 features): ', totalaccuracy/runs)\n",
    "print('Average Training Duration for Logistic Regression (4 features): ', totaltime/runs)"
   ]
  },
  {
   "cell_type": "markdown",
   "metadata": {},
   "source": [
    "# 3. Logistic Regression with PCA (6 components)"
   ]
  },
  {
   "cell_type": "code",
   "execution_count": 13,
   "metadata": {},
   "outputs": [
    {
     "name": "stdout",
     "output_type": "stream",
     "text": [
      "Accuracy score for Logistic Regression with PCA (6 components):  0.725\n",
      "Training Duration (1 run):  0:00:00.009994\n"
     ]
    }
   ],
   "source": [
    "from sklearn.model_selection import train_test_split\n",
    "from sklearn.linear_model import LogisticRegression\n",
    "from sklearn.preprocessing import StandardScaler \n",
    "from sklearn.decomposition import PCA\n",
    "\n",
    "x = StandardScaler().fit_transform(df.iloc[:, 0:-1])\n",
    "\n",
    "pca1 = PCA(n_components = 6)\n",
    "X2 = pca1.fit_transform(x)\n",
    "y2 = df['quality'] \n",
    "\n",
    "begin_time = datetime.datetime.now()\n",
    "X2_train, X2_test, y2_train, y2_test = train_test_split(X2, y2, random_state = 42,test_size=0.25)\n",
    "\n",
    "logReg = LogisticRegression(solver = 'lbfgs', multi_class = 'multinomial', random_state = 42, max_iter = 1000)\n",
    "logReg.fit(X2_train, y2_train)\n",
    "    \n",
    "y2_pred = logReg.predict(X2_test)\n",
    "\n",
    "from sklearn.metrics import accuracy_score\n",
    "\n",
    "print('Accuracy score for Logistic Regression with PCA (6 components): ', accuracy_score(y2_test, y2_pred))\n",
    "\n",
    "print('Training Duration (1 run): ', datetime.datetime.now()-begin_time)"
   ]
  },
  {
   "cell_type": "markdown",
   "metadata": {},
   "source": [
    "## Confusion Matrix for Logistic Regression with PCA (6 components)"
   ]
  },
  {
   "cell_type": "code",
   "execution_count": 14,
   "metadata": {},
   "outputs": [
    {
     "data": {
      "image/png": "[encoded data removed]",
      "text/plain": [
       "<Figure size 288x288 with 2 Axes>"
      ]
     },
     "metadata": {
      "needs_background": "light"
     },
     "output_type": "display_data"
    }
   ],
   "source": [
    "from sklearn.metrics import confusion_matrix\n",
    "\n",
    "cm = confusion_matrix(y2_test, y2_pred)\n",
    "plt.figure(figsize=(4,4))\n",
    "sns.heatmap(cm, annot=True, fmt=\".3f\", linewidths=.5, square = True, cmap = 'Blues_r');\n",
    "plt.ylabel('Actual Quality');\n",
    "plt.xlabel('Predicted Quality');\n",
    "all_sample_title = 'Accuracy Score: {0}'.format(accuracy_score(y2_test, y2_pred))\n",
    "plt.title(all_sample_title, size = 15);"
   ]
  },
  {
   "cell_type": "markdown",
   "metadata": {},
   "source": [
    "## Compute average Training Duration and accuracy score over 100 runs for Logistic Regression with PCA (6 components)"
   ]
  },
  {
   "cell_type": "code",
   "execution_count": 15,
   "metadata": {},
   "outputs": [
    {
     "name": "stdout",
     "output_type": "stream",
     "text": [
      "Average Accuracy Score for Logistic Regression (6 Principal Components):  0.7250000000000001\n",
      "Average Training Duration for Logistic Regression (6 Principal Components):  0:00:00.008513\n"
     ]
    }
   ],
   "source": [
    "from sklearn.model_selection import train_test_split\n",
    "from sklearn.linear_model import LogisticRegression\n",
    "\n",
    "x = StandardScaler().fit_transform(df.iloc[:, 0:-1])\n",
    "pca1 = PCA(n_components = 6)\n",
    "X2 = pca1.fit_transform(x)\n",
    "y2 = df['quality'] \n",
    "\n",
    "\n",
    "def logRegPCA6():\n",
    "    begin_time = datetime.datetime.now()\n",
    "    X2_train, X2_test, y2_train, y2_test = train_test_split(X2, y2, random_state = 42,test_size=0.25)\n",
    "\n",
    "    logReg = LogisticRegression(solver = 'lbfgs', multi_class = 'multinomial', random_state = 42, max_iter = 1000)\n",
    "    logReg.fit(X2_train, y2_train)\n",
    "    \n",
    "    y2_pred = logReg.predict(X2_test)\n",
    "    accuracy = accuracy_score(y2_test, y2_pred)\n",
    "    timespent = datetime.datetime.now()-begin_time\n",
    "    return accuracy, timespent\n",
    "\n",
    "runs = 100\n",
    "totaltime = datetime.timedelta()\n",
    "totalaccuracy =0.00\n",
    "for i in np.arange(0, runs, 1):\n",
    "    i, j = logRegPCA6()\n",
    "    totaltime = totaltime + j\n",
    "    totalaccuracy = totalaccuracy + i   \n",
    "\n",
    "print('Average Accuracy Score for Logistic Regression (6 Principal Components): ', totalaccuracy/runs)\n",
    "print('Average Training Duration for Logistic Regression (6 Principal Components): ', totaltime/runs)"
   ]
  },
  {
   "cell_type": "code",
   "execution_count": null,
   "metadata": {},
   "outputs": [],
   "source": []
  }
 ],
 "metadata": {
  "kernelspec": {
   "display_name": "Python 3",
   "language": "python",
   "name": "python3"
  },
  "language_info": {
   "codemirror_mode": {
    "name": "ipython",
    "version": 3
   },
   "file_extension": ".py",
   "mimetype": "text/x-python",
   "name": "python",
   "nbconvert_exporter": "python",
   "pygments_lexer": "ipython3",
   "version": "3.7.6"
  }
 },
 "nbformat": 4,
 "nbformat_minor": 4
}
